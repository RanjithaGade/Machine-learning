{
 "cells": [
  {
   "cell_type": "code",
   "execution_count": 2,
   "metadata": {
    "collapsed": false
   },
   "outputs": [],
   "source": [
    "import pandas as pd\n"
   ]
  },
  {
   "cell_type": "code",
   "execution_count": 28,
   "metadata": {
    "collapsed": false
   },
   "outputs": [
    {
     "data": {
      "text/plain": [
       "Sepal.Length    float64\n",
       "Sepal.Width     float64\n",
       "Petal.Length    float64\n",
       "Petal.Width     float64\n",
       "Species          object\n",
       "Fcat              int64\n",
       "dtype: object"
      ]
     },
     "execution_count": 28,
     "metadata": {},
     "output_type": "execute_result"
    }
   ],
   "source": [
    "df=pd.read_csv('C://Users/Ranjitha/iris.csv')\n",
    "df.Species.value_counts()\n",
    "df['Fcat']=df['Species'].map({'setosa':1,'versicolor':0,'virginica':0})\n",
    "df.head()\n",
    "df.isnull().sum()\n",
    "df.dtypes"
   ]
  },
  {
   "cell_type": "code",
   "execution_count": 27,
   "metadata": {
    "collapsed": false
   },
   "outputs": [],
   "source": [
    "%matplotlib inline\n",
    "import matplotlib.pyplot as plt\n",
    "from sklearn.linear_model import LogisticRegression\n",
    "from sklearn import metrics\n",
    "from sklearn.cross_validation import train_test_split\n",
    "from sklearn.cross_validation import cross_val_score\n",
    "from sklearn.metrics import roc_curve,auc\n",
    "from sklearn.preprocessing import scale,LabelEncoder"
   ]
  },
  {
   "cell_type": "code",
   "execution_count": 30,
   "metadata": {
    "collapsed": false
   },
   "outputs": [],
   "source": [
    "X=df[['Sepal.Length','Sepal.Width','Petal.Length','Petal.Width']]\n",
    "y=df['Fcat']\n",
    "\n",
    "X_train,X_test,y_train,y_test=train_test_split(X,y,test_size=0.2,random_state=0)"
   ]
  },
  {
   "cell_type": "code",
   "execution_count": 32,
   "metadata": {
    "collapsed": false
   },
   "outputs": [
    {
     "name": "stdout",
     "output_type": "stream",
     "text": [
      "actual variance is 1.0\n",
      "explained variance is 1.0\n"
     ]
    }
   ],
   "source": [
    "lr = LogisticRegression()\n",
    "lr.fit(X_train,y_train)\n",
    "Y_test=lr.predict(X_test)\n",
    "Actual_variance =lr.score(X_train,y_train)\n",
    "print(\"actual variance is {}\".format(Actual_variance))\n",
    "explained_variance =lr.score(X_test,y_test)\n",
    "print(\"explained variance is {}\".format(explained_variance))"
   ]
  },
  {
   "cell_type": "code",
   "execution_count": 35,
   "metadata": {
    "collapsed": false
   },
   "outputs": [
    {
     "name": "stdout",
     "output_type": "stream",
     "text": [
      "coeff for logistic regression are [[ 0.41722818  1.34748681 -2.15938179 -0.97760735]]\n"
     ]
    }
   ],
   "source": [
    "print(\"coeff for logistic regression are {}\".format(lr.coef_))"
   ]
  },
  {
   "cell_type": "code",
   "execution_count": 48,
   "metadata": {
    "collapsed": false
   },
   "outputs": [
    {
     "name": "stdout",
     "output_type": "stream",
     "text": [
      "explained varinace score is 1.0\n",
      "mean absolute error values are 0.0\n",
      "mean squared error values are 0.0\n",
      "r2 score values are 1.0\n",
      "% of similarity in pedictions: 1.0\n"
     ]
    }
   ],
   "source": [
    "from sklearn.metrics import explained_variance_score,mean_absolute_error,mean_squared_error,r2_score,jaccard_similarity_score, roc_auc_score\n",
    "\n",
    "ev=explained_variance_score(y_test,Y_test,multioutput='uniform_average')\n",
    "print(\"explained varinace score is {}\".format(ev))\n",
    "mae = mean_absolute_error(y_test,Y_test,multioutput='uniform_average')\n",
    "print(\"mean absolute error values are {}\".format(mae))\n",
    "mse = mean_squared_error(y_test,Y_test,multioutput='uniform_average')\n",
    "print(\"mean squared error values are {}\".format(mse))\n",
    "sc = r2_score(y_test,Y_test)\n",
    "print(\"r2 score values are {}\". format(sc))\n",
    "print('% of similarity in pedictions: {}'.format(jaccard_similarity_score(y_test, Y_test)))"
   ]
  },
  {
   "cell_type": "code",
   "execution_count": 43,
   "metadata": {
    "collapsed": false
   },
   "outputs": [
    {
     "name": "stdout",
     "output_type": "stream",
     "text": [
      "[[19  0]\n",
      " [ 0 11]]\n"
     ]
    }
   ],
   "source": [
    "#confusion matrix\n",
    "print(metrics.confusion_matrix(y_test,Y_test))"
   ]
  },
  {
   "cell_type": "code",
   "execution_count": 46,
   "metadata": {
    "collapsed": false
   },
   "outputs": [
    {
     "name": "stdout",
     "output_type": "stream",
     "text": [
      "             precision    recall  f1-score   support\n",
      "\n",
      "          0       1.00      1.00      1.00        19\n",
      "          1       1.00      1.00      1.00        11\n",
      "\n",
      "avg / total       1.00      1.00      1.00        30\n",
      "\n"
     ]
    }
   ],
   "source": [
    "print(metrics.classification_report(y_test,Y_test))"
   ]
  },
  {
   "cell_type": "code",
   "execution_count": 49,
   "metadata": {
    "collapsed": false
   },
   "outputs": [
    {
     "name": "stdout",
     "output_type": "stream",
     "text": [
      "area under the curve is 1.0\n"
     ]
    }
   ],
   "source": [
    "false_positive_rate,true_positive_rate,threshold=roc_curve(y_test,Y_test)\n",
    "roc_area=auc(false_positive_rate,true_positive_rate)\n",
    "print(\"area under the curve is {}\". format(roc_area))"
   ]
  },
  {
   "cell_type": "code",
   "execution_count": 105,
   "metadata": {
    "collapsed": false
   },
   "outputs": [
    {
     "data": {
      "image/png": "[encoded data removed]",
      "text/plain": [
       "<matplotlib.figure.Figure at 0x282e87709e8>"
      ]
     },
     "metadata": {},
     "output_type": "display_data"
    }
   ],
   "source": [
    "plt.plot(false_positive_rate, true_positive_rate, 'b',\n",
    "label='AUC ' % roc_area)\n",
    "plt.plot([0,1],[0,1],'r--')\n",
    "plt.xlim([-0.1,1.2])\n",
    "plt.ylim([-0.1,1.2])\n",
    "plt.ylabel('True Positive Rate')\n",
    "plt.xlabel('False Positive Rate')\n",
    "plt.show()"
   ]
  },
  {
   "cell_type": "code",
   "execution_count": 67,
   "metadata": {
    "collapsed": false
   },
   "outputs": [
    {
     "name": "stdout",
     "output_type": "stream",
     "text": [
      "[ 1.  1.  1.  1.  1.  1.  1.  1.  1.  1.]\n",
      "1.0\n"
     ]
    }
   ],
   "source": [
    "CVscore=cross_val_score(LogisticRegression(),X,y,cv=10)\n",
    "print(CVscore)\n",
    "print(CVscore.mean())\n",
    "\n"
   ]
  },
  {
   "cell_type": "markdown",
   "metadata": {},
   "source": [
    "New IRIS df with species types virginica and versicolor"
   ]
  },
  {
   "cell_type": "code",
   "execution_count": 62,
   "metadata": {
    "collapsed": false
   },
   "outputs": [],
   "source": [
    "newdf=df[df.Species.isin (['virginica','versicolor'])]"
   ]
  },
  {
   "cell_type": "code",
   "execution_count": 72,
   "metadata": {
    "collapsed": false
   },
   "outputs": [
    {
     "name": "stderr",
     "output_type": "stream",
     "text": [
      "C:\\Users\\Ranjitha\\Anaconda3\\lib\\site-packages\\ipykernel\\__main__.py:3: SettingWithCopyWarning: \n",
      "A value is trying to be set on a copy of a slice from a DataFrame.\n",
      "Try using .loc[row_indexer,col_indexer] = value instead\n",
      "\n",
      "See the caveats in the documentation: http://pandas.pydata.org/pandas-docs/stable/indexing.html#indexing-view-versus-copy\n",
      "  app.launch_new_instance()\n"
     ]
    }
   ],
   "source": [
    "newdf.columns\n",
    "newdf.Species.value_counts()\n",
    "newdf['Fcat']=newdf.Species.map({'virginica':0,'versicolor':1})"
   ]
  },
  {
   "cell_type": "code",
   "execution_count": 73,
   "metadata": {
    "collapsed": false
   },
   "outputs": [
    {
     "data": {
      "text/html": [
       "<div>\n",
       "<table border=\"1\" class=\"dataframe\">\n",
       "  <thead>\n",
       "    <tr style=\"text-align: right;\">\n",
       "      <th></th>\n",
       "      <th>Sepal.Length</th>\n",
       "      <th>Sepal.Width</th>\n",
       "      <th>Petal.Length</th>\n",
       "      <th>Petal.Width</th>\n",
       "      <th>Species</th>\n",
       "      <th>Fcat</th>\n",
       "    </tr>\n",
       "  </thead>\n",
       "  <tbody>\n",
       "    <tr>\n",
       "      <th>50</th>\n",
       "      <td>7.0</td>\n",
       "      <td>3.2</td>\n",
       "      <td>4.7</td>\n",
       "      <td>1.4</td>\n",
       "      <td>versicolor</td>\n",
       "      <td>1</td>\n",
       "    </tr>\n",
       "    <tr>\n",
       "      <th>51</th>\n",
       "      <td>6.4</td>\n",
       "      <td>3.2</td>\n",
       "      <td>4.5</td>\n",
       "      <td>1.5</td>\n",
       "      <td>versicolor</td>\n",
       "      <td>1</td>\n",
       "    </tr>\n",
       "    <tr>\n",
       "      <th>52</th>\n",
       "      <td>6.9</td>\n",
       "      <td>3.1</td>\n",
       "      <td>4.9</td>\n",
       "      <td>1.5</td>\n",
       "      <td>versicolor</td>\n",
       "      <td>1</td>\n",
       "    </tr>\n",
       "    <tr>\n",
       "      <th>53</th>\n",
       "      <td>5.5</td>\n",
       "      <td>2.3</td>\n",
       "      <td>4.0</td>\n",
       "      <td>1.3</td>\n",
       "      <td>versicolor</td>\n",
       "      <td>1</td>\n",
       "    </tr>\n",
       "    <tr>\n",
       "      <th>54</th>\n",
       "      <td>6.5</td>\n",
       "      <td>2.8</td>\n",
       "      <td>4.6</td>\n",
       "      <td>1.5</td>\n",
       "      <td>versicolor</td>\n",
       "      <td>1</td>\n",
       "    </tr>\n",
       "  </tbody>\n",
       "</table>\n",
       "</div>"
      ],
      "text/plain": [
       "    Sepal.Length  Sepal.Width  Petal.Length  Petal.Width     Species  Fcat\n",
       "50           7.0          3.2           4.7          1.4  versicolor     1\n",
       "51           6.4          3.2           4.5          1.5  versicolor     1\n",
       "52           6.9          3.1           4.9          1.5  versicolor     1\n",
       "53           5.5          2.3           4.0          1.3  versicolor     1\n",
       "54           6.5          2.8           4.6          1.5  versicolor     1"
      ]
     },
     "execution_count": 73,
     "metadata": {},
     "output_type": "execute_result"
    }
   ],
   "source": [
    "newdf.head()"
   ]
  },
  {
   "cell_type": "code",
   "execution_count": 82,
   "metadata": {
    "collapsed": false
   },
   "outputs": [],
   "source": [
    "Xn=newdf[['Sepal.Length','Sepal.Width','Petal.Length','Petal.Width']]\n",
    "yn=newdf['Fcat']\n",
    "Xn_train,Xn_test,yn_train,yn_test=train_test_split(Xn,yn,test_size=0.3,random_state=0)\n"
   ]
  },
  {
   "cell_type": "code",
   "execution_count": 84,
   "metadata": {
    "collapsed": false
   },
   "outputs": [
    {
     "name": "stdout",
     "output_type": "stream",
     "text": [
      "explained variance for new data frame is 0.9333333333333333\n"
     ]
    }
   ],
   "source": [
    "nlr = LogisticRegression()\n",
    "nlr.fit(Xn_train,yn_train)\n",
    "Yn_test=nlr.predict(Xn_test)\n",
    "explained_variance = nlr.score(Xn_test,yn_test)\n",
    "print(\"explained variance for new data frame is {}\".format(explained_variance))"
   ]
  },
  {
   "cell_type": "code",
   "execution_count": 86,
   "metadata": {
    "collapsed": false
   },
   "outputs": [
    {
     "name": "stdout",
     "output_type": "stream",
     "text": [
      "coef for new df is [[ 1.51766687  1.42623154 -2.31553068 -2.06738366]]\n"
     ]
    }
   ],
   "source": [
    "print(\"coef for new df is {}\".format(nlr.coef_))"
   ]
  },
  {
   "cell_type": "code",
   "execution_count": 87,
   "metadata": {
    "collapsed": false
   },
   "outputs": [
    {
     "name": "stdout",
     "output_type": "stream",
     "text": [
      "explained varinace score is 0.7511111111111111\n",
      "mean absolute error values are 0.06666666666666667\n",
      "mean squared error values are 0.06666666666666667\n",
      "r2 score values are 0.7333333333333334\n",
      "% of similarity in pedictions: 0.9333333333333333\n"
     ]
    }
   ],
   "source": [
    "from sklearn.metrics import explained_variance_score,mean_absolute_error,mean_squared_error,r2_score,jaccard_similarity_score, roc_auc_score\n",
    "\n",
    "ev=explained_variance_score(yn_test,Yn_test,multioutput=\n",
    "                           'uniform_average')\n",
    "print(\"explained varinace score is {}\".format(ev))\n",
    "mae = mean_absolute_error(yn_test,Yn_test,multioutput='uniform_average')\n",
    "print(\"mean absolute error values are {}\".format(mae))\n",
    "mse = mean_squared_error(yn_test,Yn_test,multioutput='uniform_average')\n",
    "print(\"mean squared error values are {}\".format(mse))\n",
    "sc = r2_score(yn_test,Yn_test)\n",
    "print(\"r2 score values are {}\". format(sc))\n",
    "print('% of similarity in pedictions: {}'.format(jaccard_similarity_score(yn_test, Yn_test)))"
   ]
  },
  {
   "cell_type": "code",
   "execution_count": 88,
   "metadata": {
    "collapsed": false
   },
   "outputs": [
    {
     "name": "stdout",
     "output_type": "stream",
     "text": [
      "[[15  0]\n",
      " [ 2 13]]\n"
     ]
    }
   ],
   "source": [
    "# confusion matrix for new df\n",
    "print(metrics.confusion_matrix(yn_test,Yn_test))"
   ]
  },
  {
   "cell_type": "code",
   "execution_count": 89,
   "metadata": {
    "collapsed": false
   },
   "outputs": [
    {
     "name": "stdout",
     "output_type": "stream",
     "text": [
      "             precision    recall  f1-score   support\n",
      "\n",
      "          0       0.88      1.00      0.94        15\n",
      "          1       1.00      0.87      0.93        15\n",
      "\n",
      "avg / total       0.94      0.93      0.93        30\n",
      "\n"
     ]
    }
   ],
   "source": [
    "#classification reports\n",
    "print(metrics.classification_report(yn_test,Yn_test))"
   ]
  },
  {
   "cell_type": "code",
   "execution_count": 91,
   "metadata": {
    "collapsed": false
   },
   "outputs": [
    {
     "name": "stdout",
     "output_type": "stream",
     "text": [
      "area under curve is 0.9333333333333333\n"
     ]
    }
   ],
   "source": [
    "falsePositive,truePositive,threshold=roc_curve(yn_test,Yn_test)\n",
    "area=auc(falsePositive,truePositive)\n",
    "print(\"area under curve is {}\".format(area))"
   ]
  },
  {
   "cell_type": "code",
   "execution_count": 94,
   "metadata": {
    "collapsed": false
   },
   "outputs": [
    {
     "data": {
      "text/plain": [
       "[<matplotlib.lines.Line2D at 0x282e86fbef0>]"
      ]
     },
     "execution_count": 94,
     "metadata": {},
     "output_type": "execute_result"
    },
    {
     "data": {
      "image/png": "[encoded data removed]",
      "text/plain": [
       "<matplotlib.figure.Figure at 0x282e86379e8>"
      ]
     },
     "metadata": {},
     "output_type": "display_data"
    }
   ],
   "source": [
    "plt.plot(falsePositive, truePositive, 'b',\n",
    "label='AUC ' % area)\n"
   ]
  },
  {
   "cell_type": "code",
   "execution_count": 96,
   "metadata": {
    "collapsed": false
   },
   "outputs": [
    {
     "data": {
      "image/png": "[encoded data removed]",
      "text/plain": [
       "<matplotlib.figure.Figure at 0x282e86c7710>"
      ]
     },
     "metadata": {},
     "output_type": "display_data"
    }
   ],
   "source": [
    "plt.plot(falsePositive, truePositive, 'b',\n",
    "label='AUC ' % area)\n",
    "plt.plot([0,1],[0,1],'r--')\n",
    "\n",
    "plt.ylabel('True Positive Rate')\n",
    "plt.xlabel('False Positive Rate')\n",
    "plt.show()"
   ]
  },
  {
   "cell_type": "code",
   "execution_count": 101,
   "metadata": {
    "collapsed": false
   },
   "outputs": [
    {
     "name": "stdout",
     "output_type": "stream",
     "text": [
      "[ 1.    1.    0.9   0.95  1.  ]\n",
      "0.97\n",
      "1.0\n"
     ]
    }
   ],
   "source": [
    "cvscore=cross_val_score(LogisticRegression(),Xn,yn,cv=5)\n",
    "print(cvscore)\n",
    "print(cvscore.mean())\n",
    "print(cvscore.max())"
   ]
  },
  {
   "cell_type": "code",
   "execution_count": null,
   "metadata": {
    "collapsed": true
   },
   "outputs": [],
   "source": []
  }
 ],
 "metadata": {
  "anaconda-cloud": {},
  "kernelspec": {
   "display_name": "Python [conda root]",
   "language": "python",
   "name": "conda-root-py"
  },
  "language_info": {
   "codemirror_mode": {
    "name": "ipython",
    "version": 3
   },
   "file_extension": ".py",
   "mimetype": "text/x-python",
   "name": "python",
   "nbconvert_exporter": "python",
   "pygments_lexer": "ipython3",
   "version": "3.5.2"
  }
 },
 "nbformat": 4,
 "nbformat_minor": 1
}
