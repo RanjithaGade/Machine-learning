{
 "cells": [
  {
   "cell_type": "code",
   "execution_count": 38,
   "metadata": {
    "collapsed": true
   },
   "outputs": [],
   "source": [
    "import pandas as pd"
   ]
  },
  {
   "cell_type": "code",
   "execution_count": 39,
   "metadata": {
    "collapsed": false
   },
   "outputs": [
    {
     "data": {
      "text/plain": [
       "Index(['Sepal.Length', 'Sepal.Width', 'Petal.Length', 'Petal.Width', 'Species',\n",
       "       'Fcat'],\n",
       "      dtype='object')"
      ]
     },
     "execution_count": 39,
     "metadata": {},
     "output_type": "execute_result"
    }
   ],
   "source": [
    "df=pd.read_csv('C://Users/Ranjitha/iris.csv')\n",
    "df.Species.value_counts()\n",
    "df['Fcat']=df['Species'].map({'setosa':1,'versicolor':2,'virginica':3})\n",
    "df.columns"
   ]
  },
  {
   "cell_type": "code",
   "execution_count": 40,
   "metadata": {
    "collapsed": false
   },
   "outputs": [],
   "source": [
    "%matplotlib inline\n",
    "import matplotlib.pyplot as plt\n",
    "from sklearn import metrics\n",
    "from sklearn.cross_validation import train_test_split\n",
    "from sklearn.cross_validation import cross_val_score\n",
    "from sklearn.metrics import roc_curve,auc\n",
    "from sklearn.preprocessing import scale,LabelEncoder"
   ]
  },
  {
   "cell_type": "code",
   "execution_count": 71,
   "metadata": {
    "collapsed": false
   },
   "outputs": [],
   "source": [
    "X=df[['Sepal.Length','Sepal.Width','Petal.Length','Petal.Width']]\n",
    "y=df['Fcat']\n",
    "X_train,X_test,y_train,y_test=train_test_split(X,y,test_size=0.3,random_state=0)"
   ]
  },
  {
   "cell_type": "code",
   "execution_count": 73,
   "metadata": {
    "collapsed": false
   },
   "outputs": [
    {
     "name": "stdout",
     "output_type": "stream",
     "text": [
      "actual variance is 1.0\n",
      "explained variance is 0.9777777777777777\n"
     ]
    }
   ],
   "source": [
    "kn = KNeighborsClassifier(n_neighbors=7,weights='distance',p=1)\n",
    "kn.fit(X_train,y_train,)\n",
    "Y_test=kn.predict(X_test)\n",
    "Actual_variance=kn.score(X_train,y_train)\n",
    "print(\"actual variance is {}\".format(Actual_variance))\n",
    "explained_variance=kn.score(X_test,y_test)\n",
    "print(\"explained variance is {}\".format(explained_variance))"
   ]
  },
  {
   "cell_type": "code",
   "execution_count": 74,
   "metadata": {
    "collapsed": false
   },
   "outputs": [
    {
     "name": "stdout",
     "output_type": "stream",
     "text": [
      "explained varinace score is 0.9630252100840336\n",
      "mean absolute error values are 0.022222222222222223\n",
      "mean squared error values are 0.022222222222222223\n",
      "r2 score values are 0.9621848739495799\n",
      "% of similarity in pedictions: 0.9777777777777777\n"
     ]
    }
   ],
   "source": [
    "from sklearn.metrics import explained_variance_score,mean_absolute_error,mean_squared_error,r2_score,jaccard_similarity_score, roc_auc_score\n",
    "\n",
    "ev=explained_variance_score(y_test,Y_test,multioutput='uniform_average')\n",
    "print(\"explained varinace score is {}\".format(ev))\n",
    "mae = mean_absolute_error(y_test,Y_test,multioutput='uniform_average')\n",
    "print(\"mean absolute error values are {}\".format(mae))\n",
    "mse = mean_squared_error(y_test,Y_test,multioutput='uniform_average')\n",
    "print(\"mean squared error values are {}\".format(mse))\n",
    "sc = r2_score(y_test,Y_test)\n",
    "print(\"r2 score values are {}\". format(sc))\n",
    "print('% of similarity in pedictions: {}'.format(jaccard_similarity_score(y_test, Y_test)))"
   ]
  },
  {
   "cell_type": "code",
   "execution_count": 68,
   "metadata": {
    "collapsed": false
   },
   "outputs": [
    {
     "name": "stdout",
     "output_type": "stream",
     "text": [
      "confusion matrix is \n",
      " [[16  0  0]\n",
      " [ 0 17  1]\n",
      " [ 0  0 11]] \n"
     ]
    }
   ],
   "source": [
    "#confusion matrix\n",
    "print(\"confusion matrix is \\n {} \".format(metrics.confusion_matrix(y_test,Y_test)))"
   ]
  },
  {
   "cell_type": "code",
   "execution_count": 69,
   "metadata": {
    "collapsed": false
   },
   "outputs": [
    {
     "name": "stdout",
     "output_type": "stream",
     "text": [
      "classification is \n",
      "              precision    recall  f1-score   support\n",
      "\n",
      "     setosa       1.00      1.00      1.00        16\n",
      " versicolor       1.00      0.94      0.97        18\n",
      "  virginica       0.92      1.00      0.96        11\n",
      "\n",
      "avg / total       0.98      0.98      0.98        45\n",
      "\n"
     ]
    }
   ],
   "source": [
    "#classification scores are\n",
    "print(\"classification is \\n {}\".format(metrics.classification_report(y_test,Y_test)))"
   ]
  },
  {
   "cell_type": "code",
   "execution_count": 70,
   "metadata": {
    "collapsed": false
   },
   "outputs": [
    {
     "name": "stdout",
     "output_type": "stream",
     "text": [
      "[ 1.          0.93333333  1.          1.          0.86666667  0.93333333\n",
      "  0.93333333  1.          1.          1.        ]\n"
     ]
    }
   ],
   "source": [
    "#cross validation scores are\n",
    "cscore=cross_val_score(KNeighborsClassifier(),X,y,scoring=\"accuracy\",cv=10)\n",
    "print(format(cscore))"
   ]
  },
  {
   "cell_type": "code",
   "execution_count": 36,
   "metadata": {
    "collapsed": false
   },
   "outputs": [
    {
     "name": "stdout",
     "output_type": "stream",
     "text": [
      "0.966666666667\n"
     ]
    }
   ],
   "source": [
    "print(cscore.mean())"
   ]
  },
  {
   "cell_type": "code",
   "execution_count": null,
   "metadata": {
    "collapsed": false
   },
   "outputs": [],
   "source": []
  },
  {
   "cell_type": "code",
   "execution_count": null,
   "metadata": {
    "collapsed": true
   },
   "outputs": [],
   "source": []
  }
 ],
 "metadata": {
  "anaconda-cloud": {},
  "kernelspec": {
   "display_name": "Python [conda root]",
   "language": "python",
   "name": "conda-root-py"
  },
  "language_info": {
   "codemirror_mode": {
    "name": "ipython",
    "version": 3
   },
   "file_extension": ".py",
   "mimetype": "text/x-python",
   "name": "python",
   "nbconvert_exporter": "python",
   "pygments_lexer": "ipython3",
   "version": "3.5.2"
  }
 },
 "nbformat": 4,
 "nbformat_minor": 1
}
