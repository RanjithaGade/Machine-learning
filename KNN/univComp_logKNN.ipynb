{
 "cells": [
  {
   "cell_type": "code",
   "execution_count": 1,
   "metadata": {
    "collapsed": true
   },
   "outputs": [],
   "source": [
    "import pandas as pd"
   ]
  },
  {
   "cell_type": "code",
   "execution_count": 5,
   "metadata": {
    "collapsed": false
   },
   "outputs": [
    {
     "data": {
      "text/html": [
       "<div>\n",
       "<table border=\"1\" class=\"dataframe\">\n",
       "  <thead>\n",
       "    <tr style=\"text-align: right;\">\n",
       "      <th></th>\n",
       "      <th>ID</th>\n",
       "      <th>age</th>\n",
       "      <th>exp</th>\n",
       "      <th>inc</th>\n",
       "      <th>mortgage</th>\n",
       "      <th>ccAvg</th>\n",
       "      <th>MaxCC</th>\n",
       "      <th>MinCC</th>\n",
       "      <th>sdCC</th>\n",
       "      <th>usage</th>\n",
       "      <th>family</th>\n",
       "      <th>edu</th>\n",
       "      <th>mortS</th>\n",
       "      <th>cc</th>\n",
       "      <th>cd</th>\n",
       "      <th>online</th>\n",
       "      <th>securities</th>\n",
       "      <th>infoReq</th>\n",
       "      <th>loan</th>\n",
       "    </tr>\n",
       "  </thead>\n",
       "  <tbody>\n",
       "    <tr>\n",
       "      <th>0</th>\n",
       "      <td>1</td>\n",
       "      <td>39.728208</td>\n",
       "      <td>1.0</td>\n",
       "      <td>49.0</td>\n",
       "      <td>0.0</td>\n",
       "      <td>20.075206</td>\n",
       "      <td>34.264171</td>\n",
       "      <td>25.964106</td>\n",
       "      <td>5.962970</td>\n",
       "      <td>0.25</td>\n",
       "      <td>4</td>\n",
       "      <td>1</td>\n",
       "      <td>0</td>\n",
       "      <td>0</td>\n",
       "      <td>0</td>\n",
       "      <td>0</td>\n",
       "      <td>1</td>\n",
       "      <td>Email</td>\n",
       "      <td>0</td>\n",
       "    </tr>\n",
       "    <tr>\n",
       "      <th>1</th>\n",
       "      <td>2</td>\n",
       "      <td>45.000000</td>\n",
       "      <td>19.0</td>\n",
       "      <td>34.0</td>\n",
       "      <td>0.0</td>\n",
       "      <td>20.856642</td>\n",
       "      <td>35.587457</td>\n",
       "      <td>27.084900</td>\n",
       "      <td>6.283650</td>\n",
       "      <td>0.25</td>\n",
       "      <td>3</td>\n",
       "      <td>1</td>\n",
       "      <td>0</td>\n",
       "      <td>0</td>\n",
       "      <td>0</td>\n",
       "      <td>0</td>\n",
       "      <td>1</td>\n",
       "      <td>Email</td>\n",
       "      <td>0</td>\n",
       "    </tr>\n",
       "    <tr>\n",
       "      <th>2</th>\n",
       "      <td>3</td>\n",
       "      <td>39.000000</td>\n",
       "      <td>15.0</td>\n",
       "      <td>11.0</td>\n",
       "      <td>0.0</td>\n",
       "      <td>19.146433</td>\n",
       "      <td>32.404744</td>\n",
       "      <td>24.722680</td>\n",
       "      <td>5.723467</td>\n",
       "      <td>0.00</td>\n",
       "      <td>1</td>\n",
       "      <td>1</td>\n",
       "      <td>0</td>\n",
       "      <td>0</td>\n",
       "      <td>0</td>\n",
       "      <td>0</td>\n",
       "      <td>0</td>\n",
       "      <td>Email</td>\n",
       "      <td>0</td>\n",
       "    </tr>\n",
       "    <tr>\n",
       "      <th>3</th>\n",
       "      <td>4</td>\n",
       "      <td>35.000000</td>\n",
       "      <td>9.0</td>\n",
       "      <td>100.0</td>\n",
       "      <td>0.0</td>\n",
       "      <td>0.611467</td>\n",
       "      <td>1.139832</td>\n",
       "      <td>0.684012</td>\n",
       "      <td>0.170681</td>\n",
       "      <td>0.00</td>\n",
       "      <td>1</td>\n",
       "      <td>2</td>\n",
       "      <td>0</td>\n",
       "      <td>0</td>\n",
       "      <td>0</td>\n",
       "      <td>0</td>\n",
       "      <td>0</td>\n",
       "      <td>Email</td>\n",
       "      <td>0</td>\n",
       "    </tr>\n",
       "    <tr>\n",
       "      <th>4</th>\n",
       "      <td>5</td>\n",
       "      <td>35.000000</td>\n",
       "      <td>8.0</td>\n",
       "      <td>45.0</td>\n",
       "      <td>0.0</td>\n",
       "      <td>18.879367</td>\n",
       "      <td>11.143550</td>\n",
       "      <td>32.844203</td>\n",
       "      <td>12.966045</td>\n",
       "      <td>0.25</td>\n",
       "      <td>4</td>\n",
       "      <td>2</td>\n",
       "      <td>0</td>\n",
       "      <td>1</td>\n",
       "      <td>0</td>\n",
       "      <td>0</td>\n",
       "      <td>0</td>\n",
       "      <td>Email</td>\n",
       "      <td>0</td>\n",
       "    </tr>\n",
       "  </tbody>\n",
       "</table>\n",
       "</div>"
      ],
      "text/plain": [
       "   ID        age   exp    inc  mortgage      ccAvg      MaxCC      MinCC  \\\n",
       "0   1  39.728208   1.0   49.0       0.0  20.075206  34.264171  25.964106   \n",
       "1   2  45.000000  19.0   34.0       0.0  20.856642  35.587457  27.084900   \n",
       "2   3  39.000000  15.0   11.0       0.0  19.146433  32.404744  24.722680   \n",
       "3   4  35.000000   9.0  100.0       0.0   0.611467   1.139832   0.684012   \n",
       "4   5  35.000000   8.0   45.0       0.0  18.879367  11.143550  32.844203   \n",
       "\n",
       "        sdCC  usage  family  edu  mortS  cc  cd  online  securities infoReq  \\\n",
       "0   5.962970   0.25       4    1      0   0   0       0           1   Email   \n",
       "1   6.283650   0.25       3    1      0   0   0       0           1   Email   \n",
       "2   5.723467   0.00       1    1      0   0   0       0           0   Email   \n",
       "3   0.170681   0.00       1    2      0   0   0       0           0   Email   \n",
       "4  12.966045   0.25       4    2      0   1   0       0           0   Email   \n",
       "\n",
       "   loan  \n",
       "0     0  \n",
       "1     0  \n",
       "2     0  \n",
       "3     0  \n",
       "4     0  "
      ]
     },
     "execution_count": 5,
     "metadata": {},
     "output_type": "execute_result"
    }
   ],
   "source": [
    "df=pd.read_csv(\"C://Users/Ranjitha/ML/univComp_log.csv\")\n",
    "df.head()         "
   ]
  },
  {
   "cell_type": "code",
   "execution_count": 7,
   "metadata": {
    "collapsed": false
   },
   "outputs": [
    {
     "data": {
      "text/plain": [
       "(4986, 19)"
      ]
     },
     "execution_count": 7,
     "metadata": {},
     "output_type": "execute_result"
    }
   ],
   "source": [
    "df.shape"
   ]
  },
  {
   "cell_type": "code",
   "execution_count": 9,
   "metadata": {
    "collapsed": false
   },
   "outputs": [],
   "source": [
    "%matplotlib inline\n",
    "import matplotlib.pyplot as plt\n",
    "from sklearn import metrics\n",
    "from sklearn.cross_validation import cross_val_score\n",
    "from sklearn.cross_validation import train_test_split\n",
    "from sklearn.metrics import roc_curve,auc\n",
    "from sklearn.neighbors import KNeighborsClassifier\n",
    "from sklearn.preprocessing import scale,LabelEncoder"
   ]
  },
  {
   "cell_type": "code",
   "execution_count": 11,
   "metadata": {
    "collapsed": false
   },
   "outputs": [
    {
     "data": {
      "text/plain": [
       "ID              int64\n",
       "age           float64\n",
       "exp           float64\n",
       "inc           float64\n",
       "mortgage      float64\n",
       "ccAvg         float64\n",
       "MaxCC         float64\n",
       "MinCC         float64\n",
       "sdCC          float64\n",
       "usage         float64\n",
       "family          int64\n",
       "edu             int64\n",
       "mortS           int64\n",
       "cc              int64\n",
       "cd              int64\n",
       "online          int64\n",
       "securities      int64\n",
       "infoReq        object\n",
       "loan            int64\n",
       "dtype: object"
      ]
     },
     "execution_count": 11,
     "metadata": {},
     "output_type": "execute_result"
    }
   ],
   "source": [
    "df.dtypes"
   ]
  },
  {
   "cell_type": "code",
   "execution_count": 12,
   "metadata": {
    "collapsed": true
   },
   "outputs": [],
   "source": [
    "df=df.drop('ID',axis=1)"
   ]
  },
  {
   "cell_type": "code",
   "execution_count": 48,
   "metadata": {
    "collapsed": false
   },
   "outputs": [
    {
     "name": "stderr",
     "output_type": "stream",
     "text": [
      "C:\\Users\\Ranjitha\\Anaconda3\\lib\\site-packages\\ipykernel\\__main__.py:8: SettingWithCopyWarning: \n",
      "A value is trying to be set on a copy of a slice from a DataFrame.\n",
      "Try using .loc[row_indexer,col_indexer] = value instead\n",
      "\n",
      "See the caveats in the documentation: http://pandas.pydata.org/pandas-docs/stable/indexing.html#indexing-view-versus-copy\n"
     ]
    }
   ],
   "source": [
    "\n",
    "\n",
    "X = df[['age','exp','inc','mortgage','ccAvg','MaxCC','MinCC','sdCC','usage','family','edu','mortS','cc','cd','online','securities','infoReq']]\n",
    "le = LabelEncoder()\n",
    "for i in X.columns:\n",
    "    if X[i].dtype == 'object':\n",
    "        le.fit(X[i])\n",
    "        X[i] = le.transform(X[i])\n",
    "X = scale(X)\n",
    "y =df['loan']\n"
   ]
  },
  {
   "cell_type": "code",
   "execution_count": 49,
   "metadata": {
    "collapsed": false
   },
   "outputs": [],
   "source": [
    "X_train,X_test,y_train,y_test=train_test_split(X,y,test_size=0.3,random_state=0)\n"
   ]
  },
  {
   "cell_type": "code",
   "execution_count": 34,
   "metadata": {
    "collapsed": false
   },
   "outputs": [
    {
     "data": {
      "text/plain": [
       "KNeighborsClassifier(algorithm='auto', leaf_size=30, metric='minkowski',\n",
       "           metric_params=None, n_jobs=1, n_neighbors=9, p=2,\n",
       "           weights='uniform')"
      ]
     },
     "execution_count": 34,
     "metadata": {},
     "output_type": "execute_result"
    }
   ],
   "source": [
    "kn =KNeighborsClassifier(n_neighbors=9)\n",
    "kn.fit(X_train,y_train)"
   ]
  },
  {
   "cell_type": "code",
   "execution_count": 35,
   "metadata": {
    "collapsed": false
   },
   "outputs": [
    {
     "name": "stdout",
     "output_type": "stream",
     "text": [
      "accuracy for actual  0.9504297994269341\n",
      "accuray for explained 0.9331550802139037\n"
     ]
    }
   ],
   "source": [
    "Y_test=kn.predict(X_test)\n",
    "Actual_variance=kn.score(X_train,y_train)\n",
    "print(\"accuracy for actual  {}\".format(Actual_variance))\n",
    "explained_variance=kn.score(X_test,y_test)\n",
    "print(\"accuray for explained {}\".format(explained_variance))"
   ]
  },
  {
   "cell_type": "code",
   "execution_count": 36,
   "metadata": {
    "collapsed": false
   },
   "outputs": [
    {
     "name": "stdout",
     "output_type": "stream",
     "text": [
      "explained varinace score is 0.24401601348504043\n",
      "mean absolute error values are 0.06684491978609626\n",
      "mean squared error values are 0.06684491978609626\n",
      "r2 score values are 0.2119679730299201\n",
      "% of similarity in pedictions: 0.9331550802139037\n"
     ]
    }
   ],
   "source": [
    "from sklearn.metrics import explained_variance_score,mean_absolute_error,mean_squared_error,r2_score,jaccard_similarity_score, roc_auc_score\n",
    "\n",
    "ev=explained_variance_score(y_test,Y_test,multioutput='uniform_average')\n",
    "print(\"explained varinace score is {}\".format(ev))\n",
    "mae = mean_absolute_error(y_test,Y_test,multioutput='uniform_average')\n",
    "print(\"mean absolute error values are {}\".format(mae))\n",
    "mse = mean_squared_error(y_test,Y_test,multioutput='uniform_average')\n",
    "print(\"mean squared error values are {}\".format(mse))\n",
    "sc = r2_score(y_test,Y_test)\n",
    "print(\"r2 score values are {}\". format(sc))\n",
    "print('% of similarity in pedictions: {}'.format(jaccard_similarity_score(y_test, Y_test)))"
   ]
  },
  {
   "cell_type": "code",
   "execution_count": 37,
   "metadata": {
    "collapsed": false
   },
   "outputs": [
    {
     "name": "stdout",
     "output_type": "stream",
     "text": [
      "confusion matrix is \n",
      " [[1345   11]\n",
      " [  89   51]] \n"
     ]
    }
   ],
   "source": [
    "#confusion matrix\n",
    "print(\"confusion matrix is \\n {} \".format(metrics.confusion_matrix(y_test,Y_test)))"
   ]
  },
  {
   "cell_type": "code",
   "execution_count": 38,
   "metadata": {
    "collapsed": false,
    "scrolled": true
   },
   "outputs": [
    {
     "name": "stdout",
     "output_type": "stream",
     "text": [
      "classification is \n",
      "              precision    recall  f1-score   support\n",
      "\n",
      "          0       0.94      0.99      0.96      1356\n",
      "          1       0.82      0.36      0.50       140\n",
      "\n",
      "avg / total       0.93      0.93      0.92      1496\n",
      "\n"
     ]
    }
   ],
   "source": [
    "#classification scores are\n",
    "print(\"classification is \\n {}\".format(metrics.classification_report(y_test,Y_test)))"
   ]
  },
  {
   "cell_type": "code",
   "execution_count": 39,
   "metadata": {
    "collapsed": false
   },
   "outputs": [
    {
     "name": "stdout",
     "output_type": "stream",
     "text": [
      "[ 0.95791583  0.95390782  0.93987976  0.94789579  0.94789579  0.94589178\n",
      "  0.93787575  0.93975904  0.94176707  0.9416499 ]\n"
     ]
    }
   ],
   "source": [
    "#cross validation scores are\n",
    "cscore=cross_val_score(KNeighborsClassifier(),X,y,scoring=\"accuracy\",cv=10)\n",
    "print(format(cscore))"
   ]
  },
  {
   "cell_type": "code",
   "execution_count": 40,
   "metadata": {
    "collapsed": false
   },
   "outputs": [
    {
     "name": "stdout",
     "output_type": "stream",
     "text": [
      "0.945443852886\n"
     ]
    }
   ],
   "source": [
    "print(cscore.mean())"
   ]
  },
  {
   "cell_type": "code",
   "execution_count": null,
   "metadata": {
    "collapsed": true
   },
   "outputs": [],
   "source": []
  }
 ],
 "metadata": {
  "anaconda-cloud": {},
  "kernelspec": {
   "display_name": "Python [conda root]",
   "language": "python",
   "name": "conda-root-py"
  },
  "language_info": {
   "codemirror_mode": {
    "name": "ipython",
    "version": 3
   },
   "file_extension": ".py",
   "mimetype": "text/x-python",
   "name": "python",
   "nbconvert_exporter": "python",
   "pygments_lexer": "ipython3",
   "version": "3.5.2"
  }
 },
 "nbformat": 4,
 "nbformat_minor": 1
}
