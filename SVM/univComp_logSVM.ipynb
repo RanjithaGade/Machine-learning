{
 "cells": [
  {
   "cell_type": "code",
   "execution_count": 61,
   "metadata": {
    "collapsed": true
   },
   "outputs": [],
   "source": [
    "import pandas as pd"
   ]
  },
  {
   "cell_type": "code",
   "execution_count": 62,
   "metadata": {
    "collapsed": false
   },
   "outputs": [
    {
     "data": {
      "text/html": [
       "<div>\n",
       "<table border=\"1\" class=\"dataframe\">\n",
       "  <thead>\n",
       "    <tr style=\"text-align: right;\">\n",
       "      <th></th>\n",
       "      <th>ID</th>\n",
       "      <th>age</th>\n",
       "      <th>exp</th>\n",
       "      <th>inc</th>\n",
       "      <th>mortgage</th>\n",
       "      <th>ccAvg</th>\n",
       "      <th>MaxCC</th>\n",
       "      <th>MinCC</th>\n",
       "      <th>sdCC</th>\n",
       "      <th>usage</th>\n",
       "      <th>family</th>\n",
       "      <th>edu</th>\n",
       "      <th>mortS</th>\n",
       "      <th>cc</th>\n",
       "      <th>cd</th>\n",
       "      <th>online</th>\n",
       "      <th>securities</th>\n",
       "      <th>infoReq</th>\n",
       "      <th>loan</th>\n",
       "    </tr>\n",
       "  </thead>\n",
       "  <tbody>\n",
       "    <tr>\n",
       "      <th>0</th>\n",
       "      <td>1</td>\n",
       "      <td>39.728208</td>\n",
       "      <td>1.0</td>\n",
       "      <td>49.0</td>\n",
       "      <td>0.0</td>\n",
       "      <td>20.075206</td>\n",
       "      <td>34.264171</td>\n",
       "      <td>25.964106</td>\n",
       "      <td>5.962970</td>\n",
       "      <td>0.25</td>\n",
       "      <td>4</td>\n",
       "      <td>1</td>\n",
       "      <td>0</td>\n",
       "      <td>0</td>\n",
       "      <td>0</td>\n",
       "      <td>0</td>\n",
       "      <td>1</td>\n",
       "      <td>Email</td>\n",
       "      <td>0</td>\n",
       "    </tr>\n",
       "    <tr>\n",
       "      <th>1</th>\n",
       "      <td>2</td>\n",
       "      <td>45.000000</td>\n",
       "      <td>19.0</td>\n",
       "      <td>34.0</td>\n",
       "      <td>0.0</td>\n",
       "      <td>20.856642</td>\n",
       "      <td>35.587457</td>\n",
       "      <td>27.084900</td>\n",
       "      <td>6.283650</td>\n",
       "      <td>0.25</td>\n",
       "      <td>3</td>\n",
       "      <td>1</td>\n",
       "      <td>0</td>\n",
       "      <td>0</td>\n",
       "      <td>0</td>\n",
       "      <td>0</td>\n",
       "      <td>1</td>\n",
       "      <td>Email</td>\n",
       "      <td>0</td>\n",
       "    </tr>\n",
       "    <tr>\n",
       "      <th>2</th>\n",
       "      <td>3</td>\n",
       "      <td>39.000000</td>\n",
       "      <td>15.0</td>\n",
       "      <td>11.0</td>\n",
       "      <td>0.0</td>\n",
       "      <td>19.146433</td>\n",
       "      <td>32.404744</td>\n",
       "      <td>24.722680</td>\n",
       "      <td>5.723467</td>\n",
       "      <td>0.00</td>\n",
       "      <td>1</td>\n",
       "      <td>1</td>\n",
       "      <td>0</td>\n",
       "      <td>0</td>\n",
       "      <td>0</td>\n",
       "      <td>0</td>\n",
       "      <td>0</td>\n",
       "      <td>Email</td>\n",
       "      <td>0</td>\n",
       "    </tr>\n",
       "    <tr>\n",
       "      <th>3</th>\n",
       "      <td>4</td>\n",
       "      <td>35.000000</td>\n",
       "      <td>9.0</td>\n",
       "      <td>100.0</td>\n",
       "      <td>0.0</td>\n",
       "      <td>0.611467</td>\n",
       "      <td>1.139832</td>\n",
       "      <td>0.684012</td>\n",
       "      <td>0.170681</td>\n",
       "      <td>0.00</td>\n",
       "      <td>1</td>\n",
       "      <td>2</td>\n",
       "      <td>0</td>\n",
       "      <td>0</td>\n",
       "      <td>0</td>\n",
       "      <td>0</td>\n",
       "      <td>0</td>\n",
       "      <td>Email</td>\n",
       "      <td>0</td>\n",
       "    </tr>\n",
       "    <tr>\n",
       "      <th>4</th>\n",
       "      <td>5</td>\n",
       "      <td>35.000000</td>\n",
       "      <td>8.0</td>\n",
       "      <td>45.0</td>\n",
       "      <td>0.0</td>\n",
       "      <td>18.879367</td>\n",
       "      <td>11.143550</td>\n",
       "      <td>32.844203</td>\n",
       "      <td>12.966045</td>\n",
       "      <td>0.25</td>\n",
       "      <td>4</td>\n",
       "      <td>2</td>\n",
       "      <td>0</td>\n",
       "      <td>1</td>\n",
       "      <td>0</td>\n",
       "      <td>0</td>\n",
       "      <td>0</td>\n",
       "      <td>Email</td>\n",
       "      <td>0</td>\n",
       "    </tr>\n",
       "  </tbody>\n",
       "</table>\n",
       "</div>"
      ],
      "text/plain": [
       "   ID        age   exp    inc  mortgage      ccAvg      MaxCC      MinCC  \\\n",
       "0   1  39.728208   1.0   49.0       0.0  20.075206  34.264171  25.964106   \n",
       "1   2  45.000000  19.0   34.0       0.0  20.856642  35.587457  27.084900   \n",
       "2   3  39.000000  15.0   11.0       0.0  19.146433  32.404744  24.722680   \n",
       "3   4  35.000000   9.0  100.0       0.0   0.611467   1.139832   0.684012   \n",
       "4   5  35.000000   8.0   45.0       0.0  18.879367  11.143550  32.844203   \n",
       "\n",
       "        sdCC  usage  family  edu  mortS  cc  cd  online  securities infoReq  \\\n",
       "0   5.962970   0.25       4    1      0   0   0       0           1   Email   \n",
       "1   6.283650   0.25       3    1      0   0   0       0           1   Email   \n",
       "2   5.723467   0.00       1    1      0   0   0       0           0   Email   \n",
       "3   0.170681   0.00       1    2      0   0   0       0           0   Email   \n",
       "4  12.966045   0.25       4    2      0   1   0       0           0   Email   \n",
       "\n",
       "   loan  \n",
       "0     0  \n",
       "1     0  \n",
       "2     0  \n",
       "3     0  \n",
       "4     0  "
      ]
     },
     "execution_count": 62,
     "metadata": {},
     "output_type": "execute_result"
    }
   ],
   "source": [
    "df=pd.read_csv(\"C://Users/Ranjitha/ML/univComp_log.csv\")\n",
    "df.head()         "
   ]
  },
  {
   "cell_type": "code",
   "execution_count": 63,
   "metadata": {
    "collapsed": false
   },
   "outputs": [
    {
     "data": {
      "text/plain": [
       "(4986, 19)"
      ]
     },
     "execution_count": 63,
     "metadata": {},
     "output_type": "execute_result"
    }
   ],
   "source": [
    "df.shape"
   ]
  },
  {
   "cell_type": "code",
   "execution_count": 64,
   "metadata": {
    "collapsed": false
   },
   "outputs": [
    {
     "data": {
      "text/plain": [
       "ID            0\n",
       "age           0\n",
       "exp           0\n",
       "inc           0\n",
       "mortgage      0\n",
       "ccAvg         0\n",
       "MaxCC         0\n",
       "MinCC         0\n",
       "sdCC          0\n",
       "usage         0\n",
       "family        0\n",
       "edu           0\n",
       "mortS         0\n",
       "cc            0\n",
       "cd            0\n",
       "online        0\n",
       "securities    0\n",
       "infoReq       0\n",
       "loan          0\n",
       "dtype: int64"
      ]
     },
     "execution_count": 64,
     "metadata": {},
     "output_type": "execute_result"
    }
   ],
   "source": [
    "df.isnull().sum()"
   ]
  },
  {
   "cell_type": "code",
   "execution_count": 65,
   "metadata": {
    "collapsed": true
   },
   "outputs": [],
   "source": [
    "%matplotlib inline\n",
    "import matplotlib.pyplot as plt\n",
    "from sklearn import metrics\n",
    "from sklearn.cross_validation import train_test_split\n",
    "from sklearn.cross_validation import cross_val_score\n",
    "from sklearn.svm import SVC\n",
    "from sklearn.preprocessing import scale,LabelEncoder"
   ]
  },
  {
   "cell_type": "code",
   "execution_count": 66,
   "metadata": {
    "collapsed": false
   },
   "outputs": [],
   "source": [
    "#dropping ID column\n",
    "X=df.iloc[:,1:18]  \n"
   ]
  },
  {
   "cell_type": "code",
   "execution_count": 67,
   "metadata": {
    "collapsed": false
   },
   "outputs": [],
   "source": [
    "le= LabelEncoder()\n",
    "for i in X.columns:\n",
    "   if X[i].dtype=='object':\n",
    "       le.fit(X[i])\n",
    "       X[i]=le.transform(X[i])\n",
    "X=scale(X)\n",
    "y=df['loan'] "
   ]
  },
  {
   "cell_type": "code",
   "execution_count": 68,
   "metadata": {
    "collapsed": false
   },
   "outputs": [],
   "source": [
    "#splitting the data sets\n",
    "X_train,X_test,y_train,y_test=train_test_split(X,y,test_size=0.2,random_state=0)"
   ]
  },
  {
   "cell_type": "code",
   "execution_count": 69,
   "metadata": {
    "collapsed": false
   },
   "outputs": [
    {
     "name": "stdout",
     "output_type": "stream",
     "text": [
      "actual accuracy 0.995987963891675\n",
      "explained_accuracy is 0.9118236472945892\n"
     ]
    }
   ],
   "source": [
    "#accuracy for non-linear hyper plane\n",
    "cl=SVC(kernel='rbf',C=1.0,gamma=1)\n",
    "cl.fit(X_train,y_train)\n",
    "Y_test=cl.predict(X_test)\n",
    "actual_accuracy=cl.score(X_train,y_train)\n",
    "print(\"actual accuracy {}\".format(actual_accuracy))\n",
    "explained_accuracy = cl.score(X_test,y_test)\n",
    "print(\"explained_accuracy is {}\".format(explained_accuracy))"
   ]
  },
  {
   "cell_type": "code",
   "execution_count": 70,
   "metadata": {
    "collapsed": false
   },
   "outputs": [
    {
     "name": "stdout",
     "output_type": "stream",
     "text": [
      "actual accuracy 0.9563691073219659\n",
      "explained_accuracy is 0.9559118236472945\n"
     ]
    }
   ],
   "source": [
    "#accuracy for linear hyper plane\n",
    "cl=SVC(kernel='linear',C=1.0,gamma=1)\n",
    "cl.fit(X_train,y_train)\n",
    "Y_test=cl.predict(X_test)\n",
    "actual_accuracy=cl.score(X_train,y_train)\n",
    "print(\"actual accuracy {}\".format(actual_accuracy))\n",
    "explained_accuracy = cl.score(X_test,y_test)\n",
    "print(\"explained_accuracy is {}\".format(explained_accuracy))"
   ]
  },
  {
   "cell_type": "code",
   "execution_count": 71,
   "metadata": {
    "collapsed": false
   },
   "outputs": [
    {
     "name": "stdout",
     "output_type": "stream",
     "text": [
      "[[900   9]\n",
      " [ 35  54]]\n"
     ]
    }
   ],
   "source": [
    "#confusion matrix\n",
    "print(metrics.confusion_matrix(y_test,Y_test))"
   ]
  },
  {
   "cell_type": "code",
   "execution_count": 72,
   "metadata": {
    "collapsed": false
   },
   "outputs": [
    {
     "name": "stdout",
     "output_type": "stream",
     "text": [
      "             precision    recall  f1-score   support\n",
      "\n",
      "          0       0.96      0.99      0.98       909\n",
      "          1       0.86      0.61      0.71        89\n",
      "\n",
      "avg / total       0.95      0.96      0.95       998\n",
      "\n"
     ]
    }
   ],
   "source": [
    "#classification report\n",
    "print(metrics.classification_report(y_test,Y_test))"
   ]
  },
  {
   "cell_type": "code",
   "execution_count": 73,
   "metadata": {
    "collapsed": true
   },
   "outputs": [],
   "source": [
    "from sklearn.metrics import mean_absolute_error,mean_squared_error,explained_variance_score,r2_score,jaccard_similarity_score"
   ]
  },
  {
   "cell_type": "code",
   "execution_count": 74,
   "metadata": {
    "collapsed": false
   },
   "outputs": [
    {
     "name": "stdout",
     "output_type": "stream",
     "text": [
      "mean absolute error is 0.04408817635270541\n",
      "mean squared error is 0.04408817635270541\n",
      "explained variance score is 0.46556902881299367\n",
      "r squared score is 0.4572131370440413\n",
      "similarity is 0.9559118236472945\n"
     ]
    }
   ],
   "source": [
    "mae=mean_absolute_error(y_test,Y_test)\n",
    "print(\"mean absolute error is {}\".format(mae))\n",
    "mse=mean_squared_error(y_test,Y_test)\n",
    "print(\"mean squared error is {}\".format(mse))\n",
    "evs=explained_variance_score(y_test,Y_test)\n",
    "print(\"explained variance score is {}\".format(evs))\n",
    "rscore=r2_score(y_test,Y_test)\n",
    "print(\"r squared score is {}\".format(rscore))\n",
    "jss=jaccard_similarity_score(y_test,Y_test)\n",
    "print(\"similarity is {}\".format(jss))"
   ]
  },
  {
   "cell_type": "code",
   "execution_count": 75,
   "metadata": {
    "collapsed": false
   },
   "outputs": [
    {
     "name": "stdout",
     "output_type": "stream",
     "text": [
      "cross validation scores are [ 0.97194389  0.96593186  0.96993988  0.95791583  0.9759519   0.96993988\n",
      "  0.96392786  0.96586345  0.96385542  0.95774648]\n"
     ]
    }
   ],
   "source": [
    "cScore=cross_val_score(SVC(),X,y,cv=10)\n",
    "print(\"cross validation scores are {}\".format(cScore))"
   ]
  },
  {
   "cell_type": "code",
   "execution_count": 76,
   "metadata": {
    "collapsed": false
   },
   "outputs": [
    {
     "data": {
      "text/plain": [
       "0.96630164565796561"
      ]
     },
     "execution_count": 76,
     "metadata": {},
     "output_type": "execute_result"
    }
   ],
   "source": [
    "cScore.mean()"
   ]
  },
  {
   "cell_type": "markdown",
   "metadata": {},
   "source": [
    "Including ID column in model building"
   ]
  },
  {
   "cell_type": "code",
   "execution_count": 78,
   "metadata": {
    "collapsed": false
   },
   "outputs": [
    {
     "name": "stdout",
     "output_type": "stream",
     "text": [
      "actual accuracy 0.9561183550651956\n",
      "explained_accuracy is 0.9569138276553106\n"
     ]
    }
   ],
   "source": [
    "X=df.iloc[:,0:18]  \n",
    "le= LabelEncoder()\n",
    "for i in X.columns:\n",
    "   if X[i].dtype=='object':\n",
    "       le.fit(X[i])\n",
    "       X[i]=le.transform(X[i])\n",
    "X=scale(X)\n",
    "y=df['loan'] \n",
    "X_train,X_test,y_train,y_test=train_test_split(X,y,test_size=0.2,random_state=0)\n",
    "cl=SVC(kernel='linear',C=1.0,gamma=1)\n",
    "cl.fit(X_train,y_train)\n",
    "Y_test=cl.predict(X_test)\n",
    "actual_accuracy=cl.score(X_train,y_train)\n",
    "print(\"actual accuracy {}\".format(actual_accuracy))\n",
    "explained_accuracy = cl.score(X_test,y_test)\n",
    "print(\"explained_accuracy is {}\".format(explained_accuracy))\n"
   ]
  },
  {
   "cell_type": "markdown",
   "metadata": {},
   "source": [
    "Accuracy slightly increased "
   ]
  },
  {
   "cell_type": "markdown",
   "metadata": {},
   "source": [
    "I tried of classifying using KNN got accuray for explained 0.9331550802139037"
   ]
  }
 ],
 "metadata": {
  "anaconda-cloud": {},
  "kernelspec": {
   "display_name": "Python [conda root]",
   "language": "python",
   "name": "conda-root-py"
  },
  "language_info": {
   "codemirror_mode": {
    "name": "ipython",
    "version": 3
   },
   "file_extension": ".py",
   "mimetype": "text/x-python",
   "name": "python",
   "nbconvert_exporter": "python",
   "pygments_lexer": "ipython3",
   "version": "3.5.2"
  }
 },
 "nbformat": 4,
 "nbformat_minor": 1
}
